{
  "nbformat": 4,
  "nbformat_minor": 0,
  "metadata": {
    "colab": {
      "provenance": [],
      "gpuType": "V28"
    },
    "kernelspec": {
      "name": "python3",
      "display_name": "Python 3"
    },
    "language_info": {
      "name": "python"
    },
    "accelerator": "TPU"
  },
  "cells": [
    {
      "cell_type": "code",
      "execution_count": 1,
      "metadata": {
        "colab": {
          "base_uri": "https://localhost:8080/"
        },
        "id": "Fq8LFr75ZyL_",
        "outputId": "5886d885-1b4f-4e8c-de52-278b88ecba8c"
      },
      "outputs": [
        {
          "output_type": "stream",
          "name": "stdout",
          "text": [
            "Downloading http://fashion-mnist.s3-website.eu-central-1.amazonaws.com/train-images-idx3-ubyte.gz\n",
            "Downloading http://fashion-mnist.s3-website.eu-central-1.amazonaws.com/train-images-idx3-ubyte.gz to data/FashionMNIST/raw/train-images-idx3-ubyte.gz\n"
          ]
        },
        {
          "output_type": "stream",
          "name": "stderr",
          "text": [
            "100%|██████████| 26421880/26421880 [00:02<00:00, 13162774.14it/s]\n"
          ]
        },
        {
          "output_type": "stream",
          "name": "stdout",
          "text": [
            "Extracting data/FashionMNIST/raw/train-images-idx3-ubyte.gz to data/FashionMNIST/raw\n",
            "\n",
            "Downloading http://fashion-mnist.s3-website.eu-central-1.amazonaws.com/train-labels-idx1-ubyte.gz\n",
            "Downloading http://fashion-mnist.s3-website.eu-central-1.amazonaws.com/train-labels-idx1-ubyte.gz to data/FashionMNIST/raw/train-labels-idx1-ubyte.gz\n"
          ]
        },
        {
          "output_type": "stream",
          "name": "stderr",
          "text": [
            "100%|██████████| 29515/29515 [00:00<00:00, 273712.93it/s]\n"
          ]
        },
        {
          "output_type": "stream",
          "name": "stdout",
          "text": [
            "Extracting data/FashionMNIST/raw/train-labels-idx1-ubyte.gz to data/FashionMNIST/raw\n",
            "\n",
            "Downloading http://fashion-mnist.s3-website.eu-central-1.amazonaws.com/t10k-images-idx3-ubyte.gz\n",
            "Downloading http://fashion-mnist.s3-website.eu-central-1.amazonaws.com/t10k-images-idx3-ubyte.gz to data/FashionMNIST/raw/t10k-images-idx3-ubyte.gz\n"
          ]
        },
        {
          "output_type": "stream",
          "name": "stderr",
          "text": [
            "100%|██████████| 4422102/4422102 [00:02<00:00, 1790380.15it/s]\n"
          ]
        },
        {
          "output_type": "stream",
          "name": "stdout",
          "text": [
            "Extracting data/FashionMNIST/raw/t10k-images-idx3-ubyte.gz to data/FashionMNIST/raw\n",
            "\n",
            "Downloading http://fashion-mnist.s3-website.eu-central-1.amazonaws.com/t10k-labels-idx1-ubyte.gz\n",
            "Downloading http://fashion-mnist.s3-website.eu-central-1.amazonaws.com/t10k-labels-idx1-ubyte.gz to data/FashionMNIST/raw/t10k-labels-idx1-ubyte.gz\n"
          ]
        },
        {
          "output_type": "stream",
          "name": "stderr",
          "text": [
            "100%|██████████| 5148/5148 [00:00<00:00, 8108252.72it/s]"
          ]
        },
        {
          "output_type": "stream",
          "name": "stdout",
          "text": [
            "Extracting data/FashionMNIST/raw/t10k-labels-idx1-ubyte.gz to data/FashionMNIST/raw\n",
            "\n"
          ]
        },
        {
          "output_type": "stream",
          "name": "stderr",
          "text": [
            "\n"
          ]
        }
      ],
      "source": [
        "import torch\n",
        "from torch import optim, nn\n",
        "from torchvision import datasets, transforms\n",
        "from torchvision.transforms import ToTensor\n",
        "from torch.utils.data import DataLoader\n",
        "import matplotlib.pyplot as plt\n",
        "from torch.utils.data import DataLoader\n",
        "\n",
        "\n",
        "data_transform = transforms.Compose([\n",
        "    transforms.RandomHorizontalFlip(p = 0.5),\n",
        "    transforms.ToTensor()\n",
        "\n",
        "])\n",
        "\n",
        "training_data = datasets.FashionMNIST(\n",
        "    root = \"data\",\n",
        "    train = True,\n",
        "    download = True,\n",
        "    transform = data_transform\n",
        ")\n",
        "\n",
        "test_data = datasets.FashionMNIST(\n",
        "    root = 'data',\n",
        "    train = False,\n",
        "    download = True,\n",
        "    transform = data_transform\n",
        ")\n",
        "\n",
        "\n",
        "\n",
        "train_dataloader = DataLoader(training_data, batch_size = 64, shuffle = True)\n",
        "test_data_loader = DataLoader(test_data, batch_size = 64, shuffle = True)\n"
      ]
    },
    {
      "cell_type": "code",
      "source": [
        "lables_map = {\n",
        "    0: 'T-shirt',\n",
        "    1: 'Trouser',\n",
        "    2: 'Pullovers',\n",
        "    3: 'Dress',\n",
        "    4: 'Coat',\n",
        "    5: 'Sandal',\n",
        "    6: 'Shirt',\n",
        "    7: 'Sneakers',\n",
        "    8: 'Bag',\n",
        "    9: 'Ankle Boot',\n",
        "}\n",
        "\n",
        "\n",
        "figure = plt.figure(figsize=(8, 8))\n",
        "cols, rows = 3, 3\n",
        "data_iter = iter(train_dataloader)\n",
        "images, labels = next(data_iter)\n",
        "\n",
        "for i in range(1, cols * rows + 1):\n",
        "    img = images[i]\n",
        "    label = labels[i].item()\n",
        "\n",
        "    figure.add_subplot(rows, cols, i)\n",
        "    plt.title(lables_map[label])\n",
        "    plt.axis(\"off\")\n",
        "    plt.imshow(img.squeeze(), cmap='gray')\n",
        "\n",
        "plt.show()\n"
      ],
      "metadata": {
        "id": "6oiGyxDaHqJ1",
        "colab": {
          "base_uri": "https://localhost:8080/",
          "height": 675
        },
        "outputId": "af535da9-6960-4985-90e1-eb91068b414c"
      },
      "execution_count": 2,
      "outputs": [
        {
          "output_type": "display_data",
          "data": {
            "text/plain": [
              "<Figure size 800x800 with 9 Axes>"
            ],
            "image/png": "[encoded data removed]"
          },
          "metadata": {}
        }
      ]
    },
    {
      "cell_type": "code",
      "source": [
        "class SimpleCNN(nn.Module):\n",
        "  def __init__(self):\n",
        "    super(SimpleCNN, self).__init__()\n",
        "    self.layer_stack = nn.Sequential(\n",
        "      nn.Conv2d(1,5,3),\n",
        "      nn.ReLU(),\n",
        "      nn.Conv2d(5,10,3),\n",
        "      nn.ReLU(),\n",
        "      nn.Flatten(),\n",
        "      nn.Linear(10 * 24 * 24, 120),\n",
        "      nn.Linear(120, 84),\n",
        "      nn.Linear(84, 10),\n",
        "    )\n",
        "\n",
        "  def forward(self, x):\n",
        "    return self.layer_stack(x)\n",
        "\n",
        "model = SimpleCNN()"
      ],
      "metadata": {
        "id": "ATEHuhYq6t3A"
      },
      "execution_count": 9,
      "outputs": []
    },
    {
      "cell_type": "code",
      "source": [
        "criterion = nn.CrossEntropyLoss()\n",
        "optimizer = optim.Adam(model.parameters(), lr=0.001)\n",
        "\n",
        "num_epochs = 100\n",
        "for epoch in range(num_epochs):\n",
        "    model.train()  # Đặt mô hình vào chế độ huấn luyện\n",
        "\n",
        "    running_loss = 0.0\n",
        "    for batch_idx, (images, labels) in enumerate(train_dataloader):\n",
        "\n",
        "        optimizer.zero_grad()  # Đặt gradient về 0\n",
        "        outputs = model(images)  # Dự đoán đầu ra từ mô hình\n",
        "        loss = criterion(outputs, labels)  # Tính toán mất mát\n",
        "\n",
        "        loss.backward()  # Tính toán gradient\n",
        "        optimizer.step()  # Cập nhật trọng số\n",
        "\n",
        "        running_loss += loss.item()  # Cộng dồn mất mát\n",
        "\n",
        "    # In mất mát sau mỗi epoch\n",
        "    if (epoch + 1) % 10 == 0:\n",
        "        print(f'Epoch [{epoch + 1}/{num_epochs}], Loss: {running_loss / len(train_dataloader):.4f}')"
      ],
      "metadata": {
        "colab": {
          "base_uri": "https://localhost:8080/"
        },
        "id": "73yt1R4aRpD6",
        "outputId": "77e3a1ce-7222-41e8-9815-d8586713124f"
      },
      "execution_count": 10,
      "outputs": [
        {
          "output_type": "stream",
          "name": "stdout",
          "text": [
            "Epoch [10/100], Loss: 0.2087\n",
            "Epoch [20/100], Loss: 0.1649\n",
            "Epoch [30/100], Loss: 0.1375\n",
            "Epoch [40/100], Loss: 0.1263\n",
            "Epoch [50/100], Loss: 0.1135\n",
            "Epoch [60/100], Loss: 0.1048\n",
            "Epoch [70/100], Loss: 0.0975\n",
            "Epoch [80/100], Loss: 0.0949\n",
            "Epoch [90/100], Loss: 0.0895\n",
            "Epoch [100/100], Loss: 0.0862\n"
          ]
        }
      ]
    },
    {
      "cell_type": "code",
      "source": [
        "import torch\n",
        "\n",
        "with torch.no_grad():\n",
        "    n_correct = 0\n",
        "    n_samples = 0\n",
        "    n_class_correct = [0 for _ in range(10)]\n",
        "    n_class_samples = [0 for _ in range(10)]\n",
        "\n",
        "    # Lặp qua từng batch trong DataLoader kiểm tra\n",
        "    for images, labels in test_data_loader:\n",
        "\n",
        "        outputs = model(images)\n",
        "\n",
        "        # Tính toán dự đoán\n",
        "        _, predicted = torch.max(outputs, 1)\n",
        "        n_samples += labels.size(0)\n",
        "        n_correct += (predicted == labels).sum().item()\n",
        "\n",
        "        # Cập nhật số lượng chính xác và tổng số mẫu cho từng lớp\n",
        "        for i in range(labels.size(0)):  # Sử dụng kích thước của batch để lặp qua từng mẫu\n",
        "            label = labels[i].item()  # Chuyển nhãn thành số nguyên\n",
        "            pred = predicted[i].item()  # Chuyển dự đoán thành số nguyên\n",
        "            if label == pred:\n",
        "                n_class_correct[label] += 1\n",
        "            n_class_samples[label] += 1\n",
        "\n",
        "    # Tính toán độ chính xác toàn cục\n",
        "    acc = 100.0 * n_correct / n_samples\n",
        "    print(f'Accuracy of the network: {acc:.2f} %')\n",
        "\n",
        "    # Tính toán độ chính xác của từng lớp\n",
        "    for i in range(10):\n",
        "        if n_class_samples[i] > 0:  # Tránh chia cho 0\n",
        "            acc = 100.0 * n_class_correct[i] / n_class_samples[i]\n",
        "        else:\n",
        "            acc = 0.0\n",
        "        print(f'Accuracy of class {i}: {acc:.2f} %')\n",
        "\n"
      ],
      "metadata": {
        "id": "eLb216DtYySk",
        "colab": {
          "base_uri": "https://localhost:8080/"
        },
        "outputId": "780f0f8e-3cff-4390-e329-d99854c284d8"
      },
      "execution_count": 11,
      "outputs": [
        {
          "output_type": "stream",
          "name": "stdout",
          "text": [
            "Accuracy of the network: 88.31 %\n",
            "Accuracy of class 0: 82.70 %\n",
            "Accuracy of class 1: 96.70 %\n",
            "Accuracy of class 2: 84.00 %\n",
            "Accuracy of class 3: 90.40 %\n",
            "Accuracy of class 4: 83.40 %\n",
            "Accuracy of class 5: 94.90 %\n",
            "Accuracy of class 6: 63.20 %\n",
            "Accuracy of class 7: 95.30 %\n",
            "Accuracy of class 8: 96.70 %\n",
            "Accuracy of class 9: 95.80 %\n"
          ]
        }
      ]
    }
  ]
}